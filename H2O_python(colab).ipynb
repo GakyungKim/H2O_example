{
  "nbformat": 4,
  "nbformat_minor": 0,
  "metadata": {
    "colab": {
      "name": "H2O_python.ipynb",
      "provenance": [],
      "collapsed_sections": []
    },
    "kernelspec": {
      "display_name": "Python 3",
      "name": "python3"
    },
    "language_info": {
      "name": "python"
    }
  },
  "cells": [
    {
      "cell_type": "markdown",
      "metadata": {
        "id": "r9h6OtlD0IJY"
      },
      "source": [
        "## Brain Imaging and Analysis for Clinical, Cognitive Neuroscience\n",
        "##### 본 실습에 사용되는 데이터와 코드는 연구 목적으로 허용한 범위 안에서만 제공됩니다. 만약, 그 범위를 넘어 저작물들이 이용되는 경우라면 저작권 침해 문제가 발생할 수 있으니 수강생들은 유념하시기 바랍니다. 수업에 관한 저작권 소유자의 서면 승인 없이는 그 어떤 형태로도 복사, 녹화, 복제, 배포, 재출판, 게시, 전송 등의 방법을 통해 수업과 관련 없는 사람 또는 단체와 수업 자료를 공유하는 것은 허용되지 않습니다 (저작권법[시행 2019. 4. 17.][법률 제 15823호, 2018. 10. 16., 일부개정] 문화체육관광부(저작권정책과), 044-203-2476)"
      ]
    },
    {
      "cell_type": "markdown",
      "metadata": {
        "id": "lZRX0ntVF5A4"
      },
      "source": [
        "## 관련 문의\n",
        "* 김가경 bettybetty3k@gmail.com"
      ]
    },
    {
      "cell_type": "markdown",
      "metadata": {
        "id": "vBacY2Ktprpg"
      },
      "source": [
        "### 실습 프로그램 관련 질의응답\n",
        "* 꼭 colab으로 실험해야 하나요?\n",
        "  * 다른 프로그램을 사용해도 괜찮습니다. 다른 프로그램이 편한 경우 다른 프로그램으로 분석해도 됩니다.\n",
        "  * 다만, 작년에 비슷한 실습을 한 수강생들로부터 R이나 다른 프로그램을 사용하는 경우 java 관련 에러가 빈번하게 발생한다는 피드백이 있었습니다. (=>H2O 실습에 해당하는 내용)\n",
        "  * colab을 이용하는 경우 java 관련 에러에 보다 자유로우니, 이점 참고부탁드립니다."
      ]
    },
    {
      "cell_type": "markdown",
      "metadata": {
        "id": "u34uD8wSmSC-"
      },
      "source": [
        "## 과제 소개\n",
        "### 1. preprocessing 전후 실험 결과 비교하기\n",
        "* [과제 설명] (1) Standard Scaler, (2) Power Transformer의 전처리 방법으로 각각 classification 실험하고 결과 비교하기\n",
        "* 참고-https://scikit-learn.org/stable/modules/preprocessing.html\n",
        "\n",
        "\n",
        "### 2. pca로 데이터의 군집과 분포 확인하기\n",
        "* [과제 설명] 예시 코드를 참고하여 성별을 기준으로 나타낸 PCA 코드 결과 의미 해석하기\n",
        "* 참고-https://scikit-learn.org/stable/auto_examples/decomposition/plot_pca_vs_lda.html\n",
        "\n",
        "\n",
        "### 3. classification 실험하기: 선형모델과 (GLM) ML 비교하기\n",
        "* [과제 설명] 선형 모델(GLM)과 xgboost를 포함하는 ML 모델의 예측력 비교 및 논의하기\n",
        "  * (1) 모델 비교: 어떤 모델이 예측력이 좋았는가? 그렇게 생각한 이유는 무엇인가?\n",
        "  * (2) 모델 해석 (machine learning interpretation): 어떤 변수가 예측에 중요하였는가? 그렇게 생각한 이유는 무엇인가?\n"
      ]
    },
    {
      "cell_type": "markdown",
      "metadata": {
        "id": "Mcx8xJ4Zy5UG"
      },
      "source": [
        "#과제1: Preprocessing 처리\n",
        "* (1) Standard Scaler, (2) Power Transformer의 전처리 방법으로 각각 classification 실험하고 결과 비교하기\n",
        "* 참고-https://scikit-learn.org/stable/modules/preprocessing.html"
      ]
    },
    {
      "cell_type": "code",
      "metadata": {
        "colab": {
          "base_uri": "https://localhost:8080/"
        },
        "id": "NbqUU5ge23r6",
        "outputId": "d76f1757-ee36-4a2a-ef56-2df9b1a52718"
      },
      "source": [
        "### environment setting\n",
        "from google.colab import drive\n",
        "drive.mount('/content/drive')"
      ],
      "execution_count": null,
      "outputs": [
        {
          "output_type": "stream",
          "text": [
            "Mounted at /content/drive\n"
          ],
          "name": "stdout"
        }
      ]
    },
    {
      "cell_type": "code",
      "metadata": {
        "id": "jKqMMYKo0sK5"
      },
      "source": [
        "### load data\n",
        "import pandas as pd\n",
        "\n",
        "train = pd.read_csv(\"/content/drive/MyDrive/Colab/class_BCSmethod/TA_test.csv\")\n",
        "test = pd.read_csv(\"/content/drive/MyDrive/Colab/class_BCSmethod/TA_test.csv\")"
      ],
      "execution_count": null,
      "outputs": []
    },
    {
      "cell_type": "markdown",
      "metadata": {
        "id": "bi-ucJzyO9O1"
      },
      "source": [
        "### (1) Standard Scaler"
      ]
    },
    {
      "cell_type": "code",
      "metadata": {
        "id": "eMuWRk0ry4PN"
      },
      "source": [
        "### preprocessing with (1) standard scaler\n",
        "\n",
        "### import module\n",
        "  # Write your code here\n",
        "  \n",
        "### train data preprocessing\n",
        "  # Write your code here\n",
        "  # don't forget to merge (subjectkey + sex + preprocessed brain data)\n",
        "  \n",
        "### test data preprocessing\n",
        "  # Write your code here\n",
        "  # don't forget to merge (subjectkey + sex + preprocessed brain data)"
      ],
      "execution_count": null,
      "outputs": []
    },
    {
      "cell_type": "code",
      "metadata": {
        "id": "Z3JlnkTQHQDR"
      },
      "source": [
        "### write csv file\n",
        "from google.colab import drive\n",
        "drive.mount('/content/drive')\n",
        "\n",
        "%cd /content/drive/MyDrive/Colab/class_BCSmethod ##파일 경로 수정\n",
        "df_train_scaler.to_csv(\"df_train_scaler.csv\") ##preprocessing한데이터.to_csv(\"저장할 파일 이름.csv\")\n",
        "df_test_scaler.to_csv(\"df_test_scaler.csv\") ##preprocessing한데이터.to_csv(\"저장할 파일 이름.csv\")\n",
        "!cp df_train_scaler.csv \"/content/drive/MyDrive/Colab/class_BCSmethod/\" ##파일 저장할 경로\n",
        "!cp df_test_scaler.csv \"/content/drive/MyDrive/Colab/class_BCSmethod/\" ##파일 저장할 경로"
      ],
      "execution_count": null,
      "outputs": []
    },
    {
      "cell_type": "markdown",
      "metadata": {
        "id": "3bC5yTmZPATY"
      },
      "source": [
        "### (2) Power Transformer"
      ]
    },
    {
      "cell_type": "code",
      "metadata": {
        "id": "Iaz9fjiH7QF4"
      },
      "source": [
        "### preprocessing with (2) power transformer\n",
        "\n",
        "### import module\n",
        "  # Write your code here\n",
        "\n",
        "### train data preprocessing\n",
        "  # Write your code here\n",
        "  # don't forget to merge (subjectkey + sex + preprocessed brain data)\n",
        "\n",
        "### test data preprocessing\n",
        "  # Write your code here\n",
        "  # don't forget to merge (subjectkey + sex + preprocessed brain data)"
      ],
      "execution_count": null,
      "outputs": []
    },
    {
      "cell_type": "code",
      "metadata": {
        "id": "vyW3_j4pQhn_"
      },
      "source": [
        "### write csv file\n",
        "from google.colab import drive\n",
        "drive.mount('/content/drive')\n",
        "\n",
        "%cd /content/drive/MyDrive/Colab/class_BCSmethod ##파일 경로 수정\n",
        "df_train_pt.to_csv(\"df_train_pt.csv\") ##preprocessing한데이터.to_csv(\"저장할 파일 이름.csv\")\n",
        "df_test_pt.to_csv(\"df_test_pt.csv\") ##preprocessing한데이터.to_csv(\"저장할 파일 이름.csv\")\n",
        "!cp df_train_pt.csv \"/content/drive/MyDrive/Colab/class_BCSmethod/\" ##파일 저장할 경로\n",
        "!cp df_test_pt.csv \"/content/drive/MyDrive/Colab/class_BCSmethod/\"##파일 저장할 경로"
      ],
      "execution_count": null,
      "outputs": []
    },
    {
      "cell_type": "markdown",
      "metadata": {
        "id": "8675Jfh5zLlE"
      },
      "source": [
        "#과제2: PCA로 데이터의 군집과 분포 확인하기\n",
        "* [과제 설명] 예시 코드를 참고하여 성별을 기준으로 나타낸 PCA 코드와 결과의 의미 해석하기\n",
        "* 참고-https://scikit-learn.org/stable/auto_examples/decomposition/plot_pca_vs_lda.html"
      ]
    },
    {
      "cell_type": "code",
      "metadata": {
        "id": "81WLZshozL9U"
      },
      "source": [
        "import numpy as np\n",
        "import matplotlib.pyplot as plt\n",
        "from sklearn.decomposition import PCA\n",
        "\n",
        "from sklearn import decomposition\n",
        "from sklearn import datasets\n",
        "\n",
        "### data\n",
        "X = train.iloc[:,2:]\n",
        "y = train.iloc[:,1]\n",
        "target_names = train.columns[1]\n",
        "\n",
        "### PCA decomposition\n",
        "pca = PCA(n_components=2)\n",
        "X_r = pca.fit(X).transform(X)\n",
        "\n",
        "# Percentage of variance explained for each components\n",
        "print('explained variance ratio (first two components): %s'\n",
        "      % str(pca.explained_variance_ratio_))\n",
        "\n",
        "plt.figure()\n",
        "colors = ['red', 'blue']\n",
        "lw = 2\n",
        "\n",
        "for color, i, target_name in zip(colors, [0, 1], target_names):\n",
        "    plt.scatter(X_r[y == i, 0], X_r[y == i, 1], color=color, alpha=.2, lw=lw,\n",
        "                label=target_name)\n",
        "plt.legend(loc='best', shadow=False, scatterpoints=1, labels=['Male', 'Female']) \n",
        "plt.title('PCA of ABCD dataset')\n",
        "plt.show()\n",
        "\n",
        "print(pca.explained_variance_ratio_)\n",
        "\n",
        "### PCA에 대해 공부한 후, 본 코드를 실행시켰을 때 나오는 결과에 대해 의미 해석하기 (추가 코드 작성 필요 X)\n"
      ],
      "execution_count": null,
      "outputs": []
    },
    {
      "cell_type": "markdown",
      "metadata": {
        "id": "ovQZkYtjizPM"
      },
      "source": [
        "#과제3: classification 실험하기: 선형모델과 (GLM) ML 비교하기"
      ]
    },
    {
      "cell_type": "markdown",
      "metadata": {
        "id": "ReVKk_CqhIGH"
      },
      "source": [
        "### (1) H2O 패키지 설치"
      ]
    },
    {
      "cell_type": "code",
      "metadata": {
        "colab": {
          "base_uri": "https://localhost:8080/"
        },
        "id": "VxIR3ZmiZo1Z",
        "outputId": "70fb4fb3-ae0f-4c37-db7e-44d0a7f8b0db"
      },
      "source": [
        "! apt-get install default-jre\n",
        "! java -version\n",
        "! pip install h2o"
      ],
      "execution_count": null,
      "outputs": [
        {
          "output_type": "stream",
          "text": [
            "Reading package lists... Done\n",
            "Building dependency tree       \n",
            "Reading state information... Done\n",
            "default-jre is already the newest version (2:1.11-68ubuntu1~18.04.1).\n",
            "default-jre set to manually installed.\n",
            "0 upgraded, 0 newly installed, 0 to remove and 39 not upgraded.\n",
            "openjdk version \"11.0.11\" 2021-04-20\n",
            "OpenJDK Runtime Environment (build 11.0.11+9-Ubuntu-0ubuntu2.18.04)\n",
            "OpenJDK 64-Bit Server VM (build 11.0.11+9-Ubuntu-0ubuntu2.18.04, mixed mode, sharing)\n",
            "Collecting h2o\n",
            "\u001b[?25l  Downloading https://files.pythonhosted.org/packages/23/c9/f24bbb8e7a57097f12c7bef3d277641eddf5160688e442d0eb1b41bf6a67/h2o-3.32.1.3.tar.gz (164.8MB)\n",
            "\u001b[K     |████████████████████████████████| 164.8MB 97kB/s \n",
            "\u001b[?25hRequirement already satisfied: requests in /usr/local/lib/python3.7/dist-packages (from h2o) (2.23.0)\n",
            "Requirement already satisfied: tabulate in /usr/local/lib/python3.7/dist-packages (from h2o) (0.8.9)\n",
            "Requirement already satisfied: future in /usr/local/lib/python3.7/dist-packages (from h2o) (0.16.0)\n",
            "Collecting colorama>=0.3.8\n",
            "  Downloading https://files.pythonhosted.org/packages/44/98/5b86278fbbf250d239ae0ecb724f8572af1c91f4a11edf4d36a206189440/colorama-0.4.4-py2.py3-none-any.whl\n",
            "Requirement already satisfied: idna<3,>=2.5 in /usr/local/lib/python3.7/dist-packages (from requests->h2o) (2.10)\n",
            "Requirement already satisfied: chardet<4,>=3.0.2 in /usr/local/lib/python3.7/dist-packages (from requests->h2o) (3.0.4)\n",
            "Requirement already satisfied: certifi>=2017.4.17 in /usr/local/lib/python3.7/dist-packages (from requests->h2o) (2020.12.5)\n",
            "Requirement already satisfied: urllib3!=1.25.0,!=1.25.1,<1.26,>=1.21.1 in /usr/local/lib/python3.7/dist-packages (from requests->h2o) (1.24.3)\n",
            "Building wheels for collected packages: h2o\n",
            "  Building wheel for h2o (setup.py) ... \u001b[?25l\u001b[?25hdone\n",
            "  Created wheel for h2o: filename=h2o-3.32.1.3-py2.py3-none-any.whl size=164854343 sha256=4ace5e74e19e683431f78c63dac0bcdfc9326147f2051c16299cdb99a267706d\n",
            "  Stored in directory: /root/.cache/pip/wheels/4f/bb/82/0988682f9abd0b5e95109a4aae6793dd427173b6dc671d9252\n",
            "Successfully built h2o\n",
            "Installing collected packages: colorama, h2o\n",
            "Successfully installed colorama-0.4.4 h2o-3.32.1.3\n"
          ],
          "name": "stdout"
        }
      ]
    },
    {
      "cell_type": "markdown",
      "metadata": {
        "id": "RDuGk3Duiaeq"
      },
      "source": [
        "### (2) H2O 구동하기"
      ]
    },
    {
      "cell_type": "code",
      "metadata": {
        "colab": {
          "base_uri": "https://localhost:8080/",
          "height": 545
        },
        "id": "BIpMrnEtZxVJ",
        "outputId": "f1c6dc8b-ebb4-4390-d0ac-1d20fbbef1cd"
      },
      "source": [
        "import h2o\n",
        "from h2o.automl import H2OAutoML\n",
        "h2o.init()"
      ],
      "execution_count": null,
      "outputs": [
        {
          "output_type": "stream",
          "text": [
            "Checking whether there is an H2O instance running at http://localhost:54321 ..... not found.\n",
            "Attempting to start a local H2O server...\n",
            "  Java Version: openjdk version \"11.0.11\" 2021-04-20; OpenJDK Runtime Environment (build 11.0.11+9-Ubuntu-0ubuntu2.18.04); OpenJDK 64-Bit Server VM (build 11.0.11+9-Ubuntu-0ubuntu2.18.04, mixed mode, sharing)\n",
            "  Starting server from /usr/local/lib/python3.7/dist-packages/h2o/backend/bin/h2o.jar\n",
            "  Ice root: /tmp/tmpprtvh0p6\n",
            "  JVM stdout: /tmp/tmpprtvh0p6/h2o_unknownUser_started_from_python.out\n",
            "  JVM stderr: /tmp/tmpprtvh0p6/h2o_unknownUser_started_from_python.err\n",
            "  Server is running at http://127.0.0.1:54321\n",
            "Connecting to H2O server at http://127.0.0.1:54321 ... successful.\n"
          ],
          "name": "stdout"
        },
        {
          "output_type": "display_data",
          "data": {
            "text/html": [
              "<div style=\"overflow:auto\"><table style=\"width:50%\"><tr><td>H2O_cluster_uptime:</td>\n",
              "<td>02 secs</td></tr>\n",
              "<tr><td>H2O_cluster_timezone:</td>\n",
              "<td>Etc/UTC</td></tr>\n",
              "<tr><td>H2O_data_parsing_timezone:</td>\n",
              "<td>UTC</td></tr>\n",
              "<tr><td>H2O_cluster_version:</td>\n",
              "<td>3.32.1.3</td></tr>\n",
              "<tr><td>H2O_cluster_version_age:</td>\n",
              "<td>14 days, 11 hours and 35 minutes </td></tr>\n",
              "<tr><td>H2O_cluster_name:</td>\n",
              "<td>H2O_from_python_unknownUser_e1fobi</td></tr>\n",
              "<tr><td>H2O_cluster_total_nodes:</td>\n",
              "<td>1</td></tr>\n",
              "<tr><td>H2O_cluster_free_memory:</td>\n",
              "<td>3.174 Gb</td></tr>\n",
              "<tr><td>H2O_cluster_total_cores:</td>\n",
              "<td>2</td></tr>\n",
              "<tr><td>H2O_cluster_allowed_cores:</td>\n",
              "<td>2</td></tr>\n",
              "<tr><td>H2O_cluster_status:</td>\n",
              "<td>accepting new members, healthy</td></tr>\n",
              "<tr><td>H2O_connection_url:</td>\n",
              "<td>http://127.0.0.1:54321</td></tr>\n",
              "<tr><td>H2O_connection_proxy:</td>\n",
              "<td>{\"http\": null, \"https\": null}</td></tr>\n",
              "<tr><td>H2O_internal_security:</td>\n",
              "<td>False</td></tr>\n",
              "<tr><td>H2O_API_Extensions:</td>\n",
              "<td>Amazon S3, XGBoost, Algos, AutoML, Core V3, TargetEncoder, Core V4</td></tr>\n",
              "<tr><td>Python_version:</td>\n",
              "<td>3.7.10 final</td></tr></table></div>"
            ],
            "text/plain": [
              "--------------------------  ------------------------------------------------------------------\n",
              "H2O_cluster_uptime:         02 secs\n",
              "H2O_cluster_timezone:       Etc/UTC\n",
              "H2O_data_parsing_timezone:  UTC\n",
              "H2O_cluster_version:        3.32.1.3\n",
              "H2O_cluster_version_age:    14 days, 11 hours and 35 minutes\n",
              "H2O_cluster_name:           H2O_from_python_unknownUser_e1fobi\n",
              "H2O_cluster_total_nodes:    1\n",
              "H2O_cluster_free_memory:    3.174 Gb\n",
              "H2O_cluster_total_cores:    2\n",
              "H2O_cluster_allowed_cores:  2\n",
              "H2O_cluster_status:         accepting new members, healthy\n",
              "H2O_connection_url:         http://127.0.0.1:54321\n",
              "H2O_connection_proxy:       {\"http\": null, \"https\": null}\n",
              "H2O_internal_security:      False\n",
              "H2O_API_Extensions:         Amazon S3, XGBoost, Algos, AutoML, Core V3, TargetEncoder, Core V4\n",
              "Python_version:             3.7.10 final\n",
              "--------------------------  ------------------------------------------------------------------"
            ]
          },
          "metadata": {
            "tags": []
          }
        }
      ]
    },
    {
      "cell_type": "markdown",
      "metadata": {
        "id": "vyv9PM30iEGP"
      },
      "source": [
        "### (3) H2O를 이용한 자동화된 기계학습 실험하기"
      ]
    },
    {
      "cell_type": "code",
      "metadata": {
        "colab": {
          "base_uri": "https://localhost:8080/",
          "height": 721
        },
        "id": "FWshbBVvhaXu",
        "outputId": "b760cfe4-f943-4e5a-f14a-604fafe823ab"
      },
      "source": [
        "### Based on this tutorial code, change the code.\n",
        "### Import a sample binary outcome train/test set into H2O\n",
        "train = h2o.import_file(\"https://s3.amazonaws.com/erin-data/higgs/higgs_train_10k.csv\") #import data as H2O format\n",
        "test = h2o.import_file(\"https://s3.amazonaws.com/erin-data/higgs/higgs_test_5k.csv\") #import data as H2O format\n",
        "\n",
        "### Identify predictors and response\n",
        "x = train.columns\n",
        "y = \"response\"\n",
        "x.remove(y)\n",
        "\n",
        "### For binary classification, response should be a factor\n",
        "train[y] = train[y].asfactor()\n",
        "test[y] = test[y].asfactor()\n",
        "\n",
        "### Run AutoML (limited to 300 secs max runtime)\n",
        "#GLM과 xgboost를 포함한 머신러닝을 실험해볼 것이므로,\n",
        "#다른 알고리즘(GBM, deeplearning, StackedEnsemble, DRF)는 제외하는 코드를 추가함.\n",
        "aml = H2OAutoML(exclude_algos =list({\"GBM\", \"deeplearning\", \"StackedEnsemble\", \"DRF\"}), \n",
        "                max_runtime_secs=300, seed=1) \n",
        "aml.train(x=x, y=y, training_frame=train)\n",
        "\n",
        "### View the AutoML Leaderboard\n",
        "lb = aml.leaderboard\n",
        "lb.head(rows=lb.nrows)  # Print all rows instead of default (10 rows)"
      ],
      "execution_count": null,
      "outputs": [
        {
          "output_type": "stream",
          "text": [
            "Parse progress: |█████████████████████████████████████████████████████████| 100%\n",
            "Parse progress: |█████████████████████████████████████████████████████████| 100%\n",
            "AutoML progress: |████████████████████████████████████████████████████████| 100%\n"
          ],
          "name": "stdout"
        },
        {
          "output_type": "display_data",
          "data": {
            "text/html": [
              "<table>\n",
              "<thead>\n",
              "<tr><th>model_id                                       </th><th style=\"text-align: right;\">     auc</th><th style=\"text-align: right;\">  logloss</th><th style=\"text-align: right;\">   aucpr</th><th style=\"text-align: right;\">  mean_per_class_error</th><th style=\"text-align: right;\">    rmse</th><th style=\"text-align: right;\">     mse</th></tr>\n",
              "</thead>\n",
              "<tbody>\n",
              "<tr><td>XGBoost_grid__1_AutoML_20210603_054054_model_5 </td><td style=\"text-align: right;\">0.778913</td><td style=\"text-align: right;\"> 0.561461</td><td style=\"text-align: right;\">0.797798</td><td style=\"text-align: right;\">              0.339159</td><td style=\"text-align: right;\">0.437196</td><td style=\"text-align: right;\">0.191141</td></tr>\n",
              "<tr><td>XGBoost_grid__1_AutoML_20210603_054054_model_22</td><td style=\"text-align: right;\">0.7741  </td><td style=\"text-align: right;\"> 0.567288</td><td style=\"text-align: right;\">0.791513</td><td style=\"text-align: right;\">              0.335708</td><td style=\"text-align: right;\">0.439912</td><td style=\"text-align: right;\">0.193523</td></tr>\n",
              "<tr><td>XGBoost_grid__1_AutoML_20210603_054054_model_16</td><td style=\"text-align: right;\">0.773814</td><td style=\"text-align: right;\"> 0.56618 </td><td style=\"text-align: right;\">0.792684</td><td style=\"text-align: right;\">              0.328456</td><td style=\"text-align: right;\">0.439536</td><td style=\"text-align: right;\">0.193192</td></tr>\n",
              "<tr><td>XGBoost_grid__1_AutoML_20210603_054054_model_18</td><td style=\"text-align: right;\">0.772823</td><td style=\"text-align: right;\"> 0.567167</td><td style=\"text-align: right;\">0.790262</td><td style=\"text-align: right;\">              0.337952</td><td style=\"text-align: right;\">0.440022</td><td style=\"text-align: right;\">0.193619</td></tr>\n",
              "<tr><td>XGBoost_grid__1_AutoML_20210603_054054_model_14</td><td style=\"text-align: right;\">0.771794</td><td style=\"text-align: right;\"> 0.574107</td><td style=\"text-align: right;\">0.79139 </td><td style=\"text-align: right;\">              0.340541</td><td style=\"text-align: right;\">0.442476</td><td style=\"text-align: right;\">0.195785</td></tr>\n",
              "<tr><td>XGBoost_grid__1_AutoML_20210603_054054_model_23</td><td style=\"text-align: right;\">0.770125</td><td style=\"text-align: right;\"> 0.577543</td><td style=\"text-align: right;\">0.785983</td><td style=\"text-align: right;\">              0.336547</td><td style=\"text-align: right;\">0.443354</td><td style=\"text-align: right;\">0.196562</td></tr>\n",
              "<tr><td>XGBoost_grid__1_AutoML_20210603_054054_model_26</td><td style=\"text-align: right;\">0.769744</td><td style=\"text-align: right;\"> 0.577694</td><td style=\"text-align: right;\">0.789644</td><td style=\"text-align: right;\">              0.323127</td><td style=\"text-align: right;\">0.443952</td><td style=\"text-align: right;\">0.197093</td></tr>\n",
              "<tr><td>XGBoost_grid__1_AutoML_20210603_054054_model_24</td><td style=\"text-align: right;\">0.768285</td><td style=\"text-align: right;\"> 0.574313</td><td style=\"text-align: right;\">0.785558</td><td style=\"text-align: right;\">              0.337149</td><td style=\"text-align: right;\">0.443042</td><td style=\"text-align: right;\">0.196286</td></tr>\n",
              "<tr><td>XGBoost_grid__1_AutoML_20210603_054054_model_25</td><td style=\"text-align: right;\">0.765835</td><td style=\"text-align: right;\"> 0.578379</td><td style=\"text-align: right;\">0.782035</td><td style=\"text-align: right;\">              0.333757</td><td style=\"text-align: right;\">0.444309</td><td style=\"text-align: right;\">0.19741 </td></tr>\n",
              "<tr><td>XGBoost_3_AutoML_20210603_054054               </td><td style=\"text-align: right;\">0.765302</td><td style=\"text-align: right;\"> 0.57678 </td><td style=\"text-align: right;\">0.784152</td><td style=\"text-align: right;\">              0.334265</td><td style=\"text-align: right;\">0.444144</td><td style=\"text-align: right;\">0.197264</td></tr>\n",
              "<tr><td>XGBoost_grid__1_AutoML_20210603_054054_model_10</td><td style=\"text-align: right;\">0.763923</td><td style=\"text-align: right;\"> 0.600666</td><td style=\"text-align: right;\">0.784465</td><td style=\"text-align: right;\">              0.337997</td><td style=\"text-align: right;\">0.451546</td><td style=\"text-align: right;\">0.203894</td></tr>\n",
              "<tr><td>XGBoost_grid__1_AutoML_20210603_054054_model_19</td><td style=\"text-align: right;\">0.761751</td><td style=\"text-align: right;\"> 0.608778</td><td style=\"text-align: right;\">0.781994</td><td style=\"text-align: right;\">              0.34474 </td><td style=\"text-align: right;\">0.454201</td><td style=\"text-align: right;\">0.206298</td></tr>\n",
              "<tr><td>XGBoost_grid__1_AutoML_20210603_054054_model_9 </td><td style=\"text-align: right;\">0.761366</td><td style=\"text-align: right;\"> 0.594626</td><td style=\"text-align: right;\">0.777956</td><td style=\"text-align: right;\">              0.34441 </td><td style=\"text-align: right;\">0.449949</td><td style=\"text-align: right;\">0.202454</td></tr>\n",
              "<tr><td>XGBoost_grid__1_AutoML_20210603_054054_model_15</td><td style=\"text-align: right;\">0.760704</td><td style=\"text-align: right;\"> 0.600787</td><td style=\"text-align: right;\">0.778721</td><td style=\"text-align: right;\">              0.331794</td><td style=\"text-align: right;\">0.451946</td><td style=\"text-align: right;\">0.204256</td></tr>\n",
              "<tr><td>XGBoost_grid__1_AutoML_20210603_054054_model_20</td><td style=\"text-align: right;\">0.757116</td><td style=\"text-align: right;\"> 0.69125 </td><td style=\"text-align: right;\">0.775699</td><td style=\"text-align: right;\">              0.356894</td><td style=\"text-align: right;\">0.470757</td><td style=\"text-align: right;\">0.221612</td></tr>\n",
              "<tr><td>XGBoost_grid__1_AutoML_20210603_054054_model_21</td><td style=\"text-align: right;\">0.756757</td><td style=\"text-align: right;\"> 0.609084</td><td style=\"text-align: right;\">0.773028</td><td style=\"text-align: right;\">              0.365386</td><td style=\"text-align: right;\">0.454995</td><td style=\"text-align: right;\">0.20702 </td></tr>\n",
              "<tr><td>XGBoost_grid__1_AutoML_20210603_054054_model_8 </td><td style=\"text-align: right;\">0.756755</td><td style=\"text-align: right;\"> 0.598923</td><td style=\"text-align: right;\">0.77612 </td><td style=\"text-align: right;\">              0.353988</td><td style=\"text-align: right;\">0.452375</td><td style=\"text-align: right;\">0.204643</td></tr>\n",
              "<tr><td>XGBoost_grid__1_AutoML_20210603_054054_model_11</td><td style=\"text-align: right;\">0.756038</td><td style=\"text-align: right;\"> 0.60387 </td><td style=\"text-align: right;\">0.772726</td><td style=\"text-align: right;\">              0.369826</td><td style=\"text-align: right;\">0.453544</td><td style=\"text-align: right;\">0.205702</td></tr>\n",
              "<tr><td>XGBoost_2_AutoML_20210603_054054               </td><td style=\"text-align: right;\">0.755459</td><td style=\"text-align: right;\"> 0.60549 </td><td style=\"text-align: right;\">0.772642</td><td style=\"text-align: right;\">              0.33953 </td><td style=\"text-align: right;\">0.454056</td><td style=\"text-align: right;\">0.206167</td></tr>\n",
              "<tr><td>XGBoost_grid__1_AutoML_20210603_054054_model_7 </td><td style=\"text-align: right;\">0.754155</td><td style=\"text-align: right;\"> 0.620028</td><td style=\"text-align: right;\">0.77306 </td><td style=\"text-align: right;\">              0.361099</td><td style=\"text-align: right;\">0.458726</td><td style=\"text-align: right;\">0.210429</td></tr>\n",
              "<tr><td>XGBoost_grid__1_AutoML_20210603_054054_model_1 </td><td style=\"text-align: right;\">0.748807</td><td style=\"text-align: right;\"> 0.64848 </td><td style=\"text-align: right;\">0.767313</td><td style=\"text-align: right;\">              0.371905</td><td style=\"text-align: right;\">0.465754</td><td style=\"text-align: right;\">0.216927</td></tr>\n",
              "<tr><td>XGBoost_grid__1_AutoML_20210603_054054_model_3 </td><td style=\"text-align: right;\">0.747634</td><td style=\"text-align: right;\"> 0.624482</td><td style=\"text-align: right;\">0.759859</td><td style=\"text-align: right;\">              0.353408</td><td style=\"text-align: right;\">0.459866</td><td style=\"text-align: right;\">0.211476</td></tr>\n",
              "<tr><td>XGBoost_grid__1_AutoML_20210603_054054_model_13</td><td style=\"text-align: right;\">0.747495</td><td style=\"text-align: right;\"> 0.626118</td><td style=\"text-align: right;\">0.762367</td><td style=\"text-align: right;\">              0.367984</td><td style=\"text-align: right;\">0.460913</td><td style=\"text-align: right;\">0.21244 </td></tr>\n",
              "<tr><td>XGBoost_grid__1_AutoML_20210603_054054_model_17</td><td style=\"text-align: right;\">0.747303</td><td style=\"text-align: right;\"> 0.610972</td><td style=\"text-align: right;\">0.764303</td><td style=\"text-align: right;\">              0.358037</td><td style=\"text-align: right;\">0.457075</td><td style=\"text-align: right;\">0.208917</td></tr>\n",
              "<tr><td>XGBoost_1_AutoML_20210603_054054               </td><td style=\"text-align: right;\">0.745481</td><td style=\"text-align: right;\"> 0.621079</td><td style=\"text-align: right;\">0.759972</td><td style=\"text-align: right;\">              0.359974</td><td style=\"text-align: right;\">0.45988 </td><td style=\"text-align: right;\">0.21149 </td></tr>\n",
              "<tr><td>XGBoost_grid__1_AutoML_20210603_054054_model_12</td><td style=\"text-align: right;\">0.741079</td><td style=\"text-align: right;\"> 0.642451</td><td style=\"text-align: right;\">0.756715</td><td style=\"text-align: right;\">              0.364094</td><td style=\"text-align: right;\">0.465674</td><td style=\"text-align: right;\">0.216853</td></tr>\n",
              "<tr><td>XGBoost_grid__1_AutoML_20210603_054054_model_6 </td><td style=\"text-align: right;\">0.740729</td><td style=\"text-align: right;\"> 0.652532</td><td style=\"text-align: right;\">0.758086</td><td style=\"text-align: right;\">              0.383713</td><td style=\"text-align: right;\">0.468185</td><td style=\"text-align: right;\">0.219197</td></tr>\n",
              "<tr><td>XGBoost_grid__1_AutoML_20210603_054054_model_4 </td><td style=\"text-align: right;\">0.739667</td><td style=\"text-align: right;\"> 0.708107</td><td style=\"text-align: right;\">0.756176</td><td style=\"text-align: right;\">              0.382851</td><td style=\"text-align: right;\">0.478581</td><td style=\"text-align: right;\">0.22904 </td></tr>\n",
              "<tr><td>XGBoost_grid__1_AutoML_20210603_054054_model_2 </td><td style=\"text-align: right;\">0.738971</td><td style=\"text-align: right;\"> 0.644534</td><td style=\"text-align: right;\">0.755686</td><td style=\"text-align: right;\">              0.367957</td><td style=\"text-align: right;\">0.466896</td><td style=\"text-align: right;\">0.217992</td></tr>\n",
              "<tr><td>GLM_1_AutoML_20210603_054054                   </td><td style=\"text-align: right;\">0.682648</td><td style=\"text-align: right;\"> 0.63852 </td><td style=\"text-align: right;\">0.680715</td><td style=\"text-align: right;\">              0.397234</td><td style=\"text-align: right;\">0.472683</td><td style=\"text-align: right;\">0.223429</td></tr>\n",
              "</tbody>\n",
              "</table>"
            ]
          },
          "metadata": {
            "tags": []
          }
        },
        {
          "output_type": "execute_result",
          "data": {
            "text/plain": [
              ""
            ]
          },
          "metadata": {
            "tags": []
          },
          "execution_count": 147
        }
      ]
    },
    {
      "cell_type": "markdown",
      "metadata": {
        "id": "EoZRgDUc09f8"
      },
      "source": [
        "### (4) 학습된 모델 성능 확인하기"
      ]
    },
    {
      "cell_type": "code",
      "metadata": {
        "id": "VX_9wN9CizDj"
      },
      "source": [
        "lb = h2o.automl.get_leaderboard(aml, extra_columns = 'ALL')\n",
        "lb"
      ],
      "execution_count": null,
      "outputs": []
    },
    {
      "cell_type": "markdown",
      "metadata": {
        "id": "1oUeUla11JmH"
      },
      "source": [
        "### (5) 모델 설명하기"
      ]
    },
    {
      "cell_type": "code",
      "metadata": {
        "id": "0bG42FndjHmx"
      },
      "source": [
        "exa = aml.explain(test)"
      ],
      "execution_count": null,
      "outputs": []
    }
  ]
}
